{
 "cells": [
  {
   "cell_type": "code",
   "execution_count": 20,
   "metadata": {
    "collapsed": false
   },
   "outputs": [],
   "source": [
    "import math\n",
    "import numpy as np\n",
    "\n",
    "with open('Cauchy.txt', 'r') as input_file:\n",
    "    floats = list(map(float, input_file.readlines()))\n"
   ]
  },
  {
   "cell_type": "code",
   "execution_count": 21,
   "metadata": {
    "collapsed": false
   },
   "outputs": [],
   "source": [
    "sample_half = floats[:len(floats)/2]\n",
    "def likelihood_function1(func, x0):\n",
    "    result = 0\n",
    "    for n in range(len(sample_half)):\n",
    "        result+=func(sample_half[i], x0)\n",
    "    return result"
   ]
  },
  {
   "cell_type": "code",
   "execution_count": 22,
   "metadata": {
    "collapsed": false
   },
   "outputs": [],
   "source": [
    "sample = floats[:len(floats)]\n",
    "def  likelihood_function2(func, x0):\n",
    "    result = 0\n",
    "    for n in range(len(sample)):\n",
    "        result+=func(sample[i], x0)\n",
    "    return result"
   ]
  },
  {
   "cell_type": "code",
   "execution_count": 23,
   "metadata": {
    "collapsed": false
   },
   "outputs": [
    {
     "name": "stdout",
     "output_type": "stream",
     "text": [
      "212.4\n",
      "212.4\n"
     ]
    }
   ],
   "source": [
    "grid = np.arange(-1000, 1000, 0.1) #else it takes too much time\n",
    "dencity = lambda a, b: math.log(1. / (math.pi * (1 + (a - b) ** 2))) \n",
    "likelihood_res_1 = [likelihood_function1(dencity, x) for x in grid]\n",
    "likelihood_res_2 = [likelihood_function2(dencity, x) for x in grid]\n",
    "\n",
    "likelihood_res_1 = np.array(likelihood_res_1)\n",
    "likelihood_res_2 = np.array(likelihood_res_2)\n",
    "\n",
    "index_max1 = np.argmax(likelihood_res_1)\n",
    "index_max2 = np.argmax(likelihood_res_2)\n",
    "\n",
    "shift_parameter_1 = -1000 + index_max1 * 0.1\n",
    "shift_parameter_2 = -1000 + index_max2 * 0.1\n",
    "print shift_parameter_1\n",
    "print shift_parameter_2"
   ]
  },
  {
   "cell_type": "code",
   "execution_count": 37,
   "metadata": {
    "collapsed": true
   },
   "outputs": [],
   "source": [
    "import math\n",
    "import numpy as np\n",
    "\n",
    "with open('weibull.txt', 'r') as input_file:\n",
    "    floats_w = list(map(float, input_file.readlines()))\n"
   ]
  },
  {
   "cell_type": "code",
   "execution_count": 38,
   "metadata": {
    "collapsed": false
   },
   "outputs": [],
   "source": [
    "four_years_sample = floats_w[:(365*4)]\n",
    "def likelihood_function_w1(func, gamma):\n",
    "    result = 0\n",
    "    for n in range(len(four_years_sample)):\n",
    "        if(four_years_sample[n] >= 0 ):\n",
    "            result+=func(four_years_sample[i], gamma)\n",
    "    return result"
   ]
  },
  {
   "cell_type": "code",
   "execution_count": 44,
   "metadata": {
    "collapsed": true
   },
   "outputs": [],
   "source": [
    "sample_w = floats_w\n",
    "def likelihood_function_w2(func, gamma):\n",
    "    result = 0\n",
    "    for n in range(len(sample_w)):\n",
    "        if(sample_w[n] >= 0):\n",
    "            result+=func(sample_w[i], gamma)\n",
    "    return result"
   ]
  },
  {
   "cell_type": "code",
   "execution_count": 47,
   "metadata": {
    "collapsed": false
   },
   "outputs": [
    {
     "name": "stdout",
     "output_type": "stream",
     "text": [
      "-2.0\n",
      "-2.0\n"
     ]
    },
    {
     "name": "stderr",
     "output_type": "stream",
     "text": [
      "C:\\Users\\V\\Anaconda2\\lib\\site-packages\\ipykernel\\__main__.py:3: RuntimeWarning: invalid value encountered in double_scalars\n",
      "  app.launch_new_instance()\n"
     ]
    }
   ],
   "source": [
    "grid_w = np.arange(-2, 2, 0.001)\n",
    "dencity_w = lambda a , b:  math.log(b * (a ** (b - 1))\n",
    "                                    * math.exp((-a) ** b))\n",
    "\n",
    "likelihood_res_w1 = [likelihood_function_w1(dencity_w, np.power(10., x)) for x in grid_w]\n",
    "likelihood_res_w2 = [likelihood_function_w2(dencity_w, np.power(10., x)) for x in grid_w]\n",
    "\n",
    "likelihood_res_w1 = np.array(likelihood_res_w1)\n",
    "likelihood_res_w2 = np.array(likelihood_res_w2)\n",
    "\n",
    "index_wmax1 = np.argmax(likelihood_res_w1)\n",
    "index_wmax2 = np.argmax(likelihood_res_w2)\n",
    "\n",
    "shift_parameter_w1 = -2 + index_wmax1 * 0.001\n",
    "shift_parameter_w2 = -2 + index_wmax2 * 0.001\n",
    "print shift_parameter_w1\n",
    "print shift_parameter_w2\n"
   ]
  }
 ],
 "metadata": {
  "kernelspec": {
   "display_name": "Python 2",
   "language": "python",
   "name": "python2"
  },
  "language_info": {
   "codemirror_mode": {
    "name": "ipython",
    "version": 2
   },
   "file_extension": ".py",
   "mimetype": "text/x-python",
   "name": "python",
   "nbconvert_exporter": "python",
   "pygments_lexer": "ipython2",
   "version": "2.7.11"
  }
 },
 "nbformat": 4,
 "nbformat_minor": 0
}
